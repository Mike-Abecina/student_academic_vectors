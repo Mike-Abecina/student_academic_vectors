{
 "cells": [
  {
   "cell_type": "markdown",
   "metadata": {},
   "source": [
    "# Student Progress (Anonymised) by Calculating Academic Vectors"
   ]
  },
  {
   "cell_type": "markdown",
   "metadata": {},
   "source": [
    " This script processes student academic data to create academic vectors for each student. We use this to determine\n",
    " - a student's suitability for higher level subjects\n",
    " - subject selection for Year 10-12\n",
    " - measuring the level of academic progress for students\n",
    " - metrics to facilitate conversations abour student academic progress"
   ]
  },
  {
   "cell_type": "code",
   "execution_count": 380,
   "metadata": {},
   "outputs": [],
   "source": [
    "### IMPORT PACKAGES ###\n",
    "#######################\n",
    "import datetime\n",
    "import pandas as pd\n",
    "import pyodbc\n",
    "import numpy as np\n",
    "import matplotlib\n",
    "import csv\n",
    "import re\n",
    "from pandas import DataFrame\n",
    "%matplotlib inline"
   ]
  },
  {
   "cell_type": "markdown",
   "metadata": {},
   "source": [
    "## Step 0. Connector\n"
   ]
  },
  {
   "cell_type": "code",
   "execution_count": null,
   "metadata": {},
   "outputs": [],
   "source": [
    "connection = pyodbc.connect('Driver={SQL Server};'\n",
    "    'Server=server_name;' # server_name anonymised\n",
    "    'Database=db;'   # datanase anonymised\n",
    "    'Trusted_Connection=yes;') "
   ]
  },
  {
   "cell_type": "markdown",
   "metadata": {},
   "source": [
    "## Step 1: Import from Database\n"
   ]
  },
  {
   "cell_type": "code",
   "execution_count": 381,
   "metadata": {},
   "outputs": [],
   "source": [
    "def import_sql(conn):                                #accepts db connection as argument \n",
    "            \n",
    "    cursor = conn.cursor()                           #Selecting ALL grades for ALL current/ past students\n",
    "    cursor.execute(\"SELECT SA.[FileType]\\\n",
    "    ,SA.[FileYear]\\\n",
    "    ,SA.[FileSemester]\\\n",
    "    ,SA.[ID]\\\n",
    "    ,SM.YearLevel\\\n",
    "    ,SA.[ClassCampus]\\\n",
    "    ,SA.[ClassCode]\\\n",
    "    ,SA.[Result]\\\n",
    "    FROM [db].[dbo].[StudentAssessmentResults] SA\\\n",
    "    join pvStudentNamesall SM\\\n",
    "    on SM.FileYear = SA.FileYear\\\n",
    "    and SM.id = SA.ID\\\n",
    "    where SA.result in ('A','B','C','D','E')\\\n",
    "    and SA.filetype= 'A'\\\n",
    "    and not SA.result =''\\\n",
    "    and not SA.FileSemester = '1' UNION ALL SELECT  SB.[FileType],\\\n",
    "    SB.[FileYear]\\\n",
    "    ,SB.[FileSemester]\\\n",
    "    ,SB.[ID]\\\n",
    "    ,SN.YearLevel\\\n",
    "    ,SB.[ClassCampus]\\\n",
    "    ,SB.[ClassCode]\\\n",
    "    ,SB.[Result]\\\n",
    "    FROM [db].[dbo].[pastStudentAssessmentResults] SB\\\n",
    "    join pvStudentNamesall SN\\\n",
    "    on SN.FileYear = SB.FileYear\\\n",
    "    and SN.id = SB.ID\\\n",
    "    where  SB.result in ('A','B','C','D','E')\\\n",
    "    and SB.filetype= 'A'\\\n",
    "    and not SB.result =''\\\n",
    "    and not SB.FileSemester = 1\")\n",
    "    student_raw=cursor.fetchall()\n",
    "    return student_raw"
   ]
  },
  {
   "cell_type": "code",
   "execution_count": 382,
   "metadata": {},
   "outputs": [],
   "source": [
    "def import_classes(conn): #accepts db connection as argument \n",
    "    \n",
    "    cursor = conn.cursor()    \n",
    "    cursor.execute(\"SELECT DISTINCT ClassCode, LearningAreaCode\\\n",
    "    FROM SubjectClasses\\\n",
    "    WHERE FileType = 'A' AND FileYear >= 2011 AND AssessmentCode <> ''\\\n",
    "    ORDER BY ClassCode\")\n",
    "    list_raw=cursor.fetchall()\n",
    "    return list_raw\n"
   ]
  },
  {
   "cell_type": "code",
   "execution_count": 383,
   "metadata": {},
   "outputs": [],
   "source": [
    "def classlist_to_df():                   #converts class list to dataframe\n",
    "    classy_list = import_classes()\n",
    "    a=[0]*len(classy_list)\n",
    "    b=[0]*len(classy_list)\n",
    "    c=[0]*len(classy_list)\n",
    "    for i in range(len(classy_list)):\n",
    "        a[i] = classy_list[i][1]\n",
    "        b[i] = classy_list[i][0]\n",
    "        c[i] = i\n",
    "    c = np.array(c)\n",
    "    return pd.DataFrame({'L Area':a, 'ClassCode':b}, index =c)\n"
   ]
  },
  {
   "cell_type": "code",
   "execution_count": 384,
   "metadata": {},
   "outputs": [],
   "source": [
    "def yes_to_one(t): # converting yes to one\n",
    "    if bool(t['L Area'])==True:\n",
    "        return 1\n",
    "    else:\n",
    "        return 0"
   ]
  },
  {
   "cell_type": "code",
   "execution_count": 385,
   "metadata": {},
   "outputs": [],
   "source": [
    "def y_to_1(frame): # applying to dataframe\n",
    "    frame['L Area2']=frame.apply(lambda x: yes_to_one(x), axis =1)\n",
    "    return frame"
   ]
  },
  {
   "cell_type": "code",
   "execution_count": 386,
   "metadata": {},
   "outputs": [],
   "source": [
    "def real_classlist(): #final and actual class lists \n",
    "    clt= classlist_to_df()\n",
    "    clt2 = y_to_1(clt)\n",
    "    clt3 = clt2.groupby('ClassCode').max()\n",
    "    clt3.index.names = ['Class']\n",
    "    clt3['ClassCode'] = clt3.index\n",
    "    return clt3\n"
   ]
  },
  {
   "cell_type": "markdown",
   "metadata": {},
   "source": [
    "### Excursus - 5.3/5.2/5.1 Mathematics Scaler\n",
    "\n",
    "Scales 5.2 and 5.1 results so that the maximum a student can get is a C (only for calculating progress)"
   ]
  },
  {
   "cell_type": "code",
   "execution_count": 387,
   "metadata": {},
   "outputs": [],
   "source": [
    "def math_query():  #query for maths classes\n",
    "    return \"select distinct ClassCode from subjectclasses where fileyear > 2008 and AssessmentCode like '%MAT%'and Description in ('Mathematics 5.1', 'Mathematics 5.1/2','Mathematics 5.1/5.2','Mathematics 5.2','Mathematics 5.2/5.1','9MATD','9MATE','9MATG','9MATF')\""
   ]
  },
  {
   "cell_type": "code",
   "execution_count": null,
   "metadata": {},
   "outputs": [],
   "source": [
    " def sql_convert(query_results, conn):\n",
    "    return pd.read_sql_query(str(query_results),conn)"
   ]
  },
  {
   "cell_type": "code",
   "execution_count": 389,
   "metadata": {},
   "outputs": [],
   "source": [
    "def math_scaler(row):\n",
    "    if row['Result'] in ['A','B']:\n",
    "        return 'C'\n",
    "    else:\n",
    "        return row['Result']\n"
   ]
  },
  {
   "cell_type": "code",
   "execution_count": 390,
   "metadata": {},
   "outputs": [],
   "source": [
    "def math_52(frame):\n",
    "    frame['Result']=frame.apply(lambda x: math_scaler(x), axis = 1)\n",
    "    return frame"
   ]
  },
  {
   "cell_type": "code",
   "execution_count": null,
   "metadata": {},
   "outputs": [],
   "source": []
  },
  {
   "cell_type": "markdown",
   "metadata": {},
   "source": [
    "## Step 2.  Edit into DataFrame"
   ]
  },
  {
   "cell_type": "code",
   "execution_count": 391,
   "metadata": {},
   "outputs": [],
   "source": [
    "def get_index(student_raw):                         #gets index for DataFrame\n",
    "    student_raw_index = [0]*len(student_raw)\n",
    "    for i in range(len(student_raw)):\n",
    "        student_raw_index[i]= student_raw[i][3]\n",
    "    return student_raw_index"
   ]
  },
  {
   "cell_type": "code",
   "execution_count": 392,
   "metadata": {},
   "outputs": [],
   "source": [
    "def student_raw_series(student_raw):               #convert cursor to series\n",
    "    student_raw_series = [0]*len(student_raw)\n",
    "    for i in range(0,len(student_raw)):\n",
    "        student_details = [0]*8 # 8 is the number of learning Areas at school\n",
    "        for j in range (0,8):\n",
    "            student_details[j]=student_raw[i][j]\n",
    "        student_raw_series[i]=student_details\n",
    "    return student_raw_series"
   ]
  },
  {
   "cell_type": "code",
   "execution_count": 393,
   "metadata": {},
   "outputs": [],
   "source": [
    "def to_dataframe(series, student_raw_index):        #convert to DataFrame\n",
    "    df=pd.DataFrame(series, index = student_raw_index, columns = ['FileType','FileYear','FileSemester','ID','YearLevel','ClassCampus','ClassCode','Result'])\n",
    "    df=df.drop(['FileType','ClassCampus'], axis=1)\n",
    "    df['FileYear']=df['FileYear'].astype(int)\n",
    "    return df"
   ]
  },
  {
   "cell_type": "code",
   "execution_count": 394,
   "metadata": {},
   "outputs": [],
   "source": [
    "def to_dataframe_for_compare(series, student_raw_index):     #removing columns\n",
    "    df=pd.DataFrame(series, index = student_raw_index, columns = ['FileType','FileYear','FileSemester','ID','YearLevel','ClassCampus','ClassCode','Result'])\n",
    "    df['FileYear']=df['FileYear'].astype(int)\n",
    "    return df"
   ]
  },
  {
   "cell_type": "code",
   "execution_count": 395,
   "metadata": {},
   "outputs": [],
   "source": [
    "#############################################\n",
    "### PIPELINE FROM DATABASE TO DATAFRAME ###\n",
    "#############################################\n",
    "\n",
    "def data_pipeline():                              #pipeline from Database to DataFrame\n",
    "    x = import_sql()\n",
    "    y = get_index(x)\n",
    "    z = student_raw_series(x)\n",
    "    z = np.array(z)\n",
    "    df = to_dataframe(z,y)\n",
    "    return df"
   ]
  },
  {
   "cell_type": "code",
   "execution_count": 396,
   "metadata": {},
   "outputs": [],
   "source": [
    "def year_before_now(row, minimum):\n",
    "    return int(row['FileYear'])-minimum"
   ]
  },
  {
   "cell_type": "code",
   "execution_count": 397,
   "metadata": {},
   "outputs": [],
   "source": [
    "def maths_only(frame):\n",
    "    return frame[frame['ClassCode'].isin(list(sql_convert(math_query()).loc[:,'ClassCode']))]"
   ]
  },
  {
   "cell_type": "code",
   "execution_count": 398,
   "metadata": {},
   "outputs": [],
   "source": [
    "def math_data_pipeline():     #transforms Mathematics results, to place on a common grade scale\n",
    "    x = data_pipeline()\n",
    "    x=x.reset_index()\n",
    "    y=math_52(maths_only(x))\n",
    "    x.update(y)\n",
    "    x=x.set_index('ID')\n",
    "    x=x.drop(columns='index')\n",
    "    x['ID']=x.index\n",
    "    x = x[['FileYear','FileSemester','ID','YearLevel','ClassCode','Result']]\n",
    "    x = x.astype({\"FileYear\":int})\n",
    "    return x\n",
    "\n"
   ]
  },
  {
   "cell_type": "markdown",
   "metadata": {},
   "source": [
    "## Step 3. Replace Grades with Numerical Value"
   ]
  },
  {
   "cell_type": "code",
   "execution_count": 399,
   "metadata": {},
   "outputs": [],
   "source": [
    "def grade_number(row):\n",
    "    if row['Result'] in ['A', 'Exceeds expectations','Exceptional','Ex']:\n",
    "        return 5\n",
    "    elif row['Result'] in ['B','Competent','Commendable','Th','Co']:\n",
    "        return 4\n",
    "    elif row['Result'] in ['D', 'Ba','Below Expectations','Not yet competent','Below expectations']:\n",
    "        return 2\n",
    "    elif row['Result'] in ['E', 'Achieved with Support','Unsatisfactory','Unsatisfactory - needs improve']:\n",
    "        return 1\n",
    "    else:\n",
    "        return 3"
   ]
  },
  {
   "cell_type": "code",
   "execution_count": 400,
   "metadata": {},
   "outputs": [],
   "source": [
    "def drop_columns1(frame):\n",
    "    frame.drop(frame.columns[[0,5]], axis=1, inplace=True)\n",
    "    return frame"
   ]
  },
  {
   "cell_type": "code",
   "execution_count": 401,
   "metadata": {},
   "outputs": [],
   "source": [
    "def result_number(frame):                          # calculate grade number\n",
    "    frame['Result Number'] =frame.apply(lambda x: grade_number(x), axis =1)\n",
    "    return frame"
   ]
  },
  {
   "cell_type": "code",
   "execution_count": 402,
   "metadata": {},
   "outputs": [],
   "source": [
    "def class_subj(row):                               # extract class code using regex\n",
    "    x = re.match(r\"([0-9]+)([A-Z]+)([0-9-]+)([A-Z]+)\", row['ClassCode'])\n",
    "    if bool(re.match(r\"([0-9]+)([A-Z]+)([0-9-]+)([A-Z]+)\", row['ClassCode']))==True:\n",
    "        return x.group(2)\n",
    "    else:\n",
    "        return 0"
   ]
  },
  {
   "cell_type": "code",
   "execution_count": 403,
   "metadata": {},
   "outputs": [],
   "source": [
    "def insert_sub():\n",
    "    x=import_classes()\n",
    "    frame=classlist_to_df(x)\n",
    "    frame['Subject']=frame.apply(lambda x: class_subj(x), axis =1)\n",
    "    return frame"
   ]
  },
  {
   "cell_type": "code",
   "execution_count": 404,
   "metadata": {},
   "outputs": [],
   "source": [
    "def add_subject(frame):\n",
    "    frame['Subject']=frame.apply(lambda x: class_subj(x), axis =1)\n",
    "    return frame"
   ]
  },
  {
   "cell_type": "code",
   "execution_count": 340,
   "metadata": {},
   "outputs": [],
   "source": [
    "def add_years(frame,minimum):\n",
    "    frame['Years Ago']=frame.apply(lambda x: year_before_now(x, minimum)+1, axis=1)\n",
    "    return frame"
   ]
  },
  {
   "cell_type": "markdown",
   "metadata": {},
   "source": [
    "## Step 4. Group into Learning Areas"
   ]
  },
  {
   "cell_type": "code",
   "execution_count": 341,
   "metadata": {},
   "outputs": [],
   "source": [
    "def _filter(frame):\n",
    "    frame['Subject'] = frame.apply(lambda x:subj_convert(x), axis=1)                         \n",
    "    return frame[frame['Subject'].isin(['ENG','MAT','SCI','PDH','MUS', 'GEO','IND','MUS'])]  # all learning areas except languages"
   ]
  },
  {
   "cell_type": "code",
   "execution_count": 342,
   "metadata": {},
   "outputs": [],
   "source": [
    "def add_weighted_mark(frame):\n",
    "    frame['Weighted Mark']=frame['Years Ago']*frame['Result Number']     #a  weighted average, the more recent ones worth more\n",
    "    return frame"
   ]
  },
  {
   "cell_type": "code",
   "execution_count": 343,
   "metadata": {},
   "outputs": [],
   "source": [
    "def filter_only(frame):\n",
    "    return frame[['FileYear','FileSemester','ID','YearLevel','L Area', 'Years Ago','Weighted Mark']]"
   ]
  },
  {
   "cell_type": "code",
   "execution_count": 344,
   "metadata": {},
   "outputs": [],
   "source": [
    "def group_by_sum(frame):                               \n",
    "    return frame.groupby(['ID', 'L Area']).sum()"
   ]
  },
  {
   "cell_type": "code",
   "execution_count": 345,
   "metadata": {},
   "outputs": [],
   "source": [
    "def add_weighted_av(frame):\n",
    "    frame['Weighted Average']=frame['Weighted Mark']/frame['Years Ago'] \n",
    "    return frame"
   ]
  },
  {
   "cell_type": "markdown",
   "metadata": {},
   "source": [
    "## Step 5: Derive Academic Vectors"
   ]
  },
  {
   "cell_type": "code",
   "execution_count": 346,
   "metadata": {},
   "outputs": [],
   "source": [
    "#######################################\n",
    "###   ACADEMIC VECTORS - VECTORS    ### \n",
    "### CONTAINING STUDENT ABILITIES    ###\n",
    "###         AT TIME 'year'          ###\n",
    "#######################################b\n",
    "\n",
    "def academic_vector(year):\n",
    "    frame = math_data_pipeline()\n",
    "    frame['ID']=frame['ID'].astype(int)\n",
    "    res = result_number(frame)\n",
    "    adds = add_subject(res)\n",
    "    subj=real_classlist()\n",
    "    filt1 = adds.merge(subj,on='ClassCode').drop(columns=['Subject', 'L Area2'])\n",
    "    filt1 = filt1[filt1['FileYear']<=year]\n",
    "    minimum = min(adds['FileYear'])\n",
    "    addy = add_years(filt1,minimum)\n",
    "    wm = add_weighted_mark(addy)\n",
    "    filt2=filter_only(wm)\n",
    "    group = group_by_sum(filt2)\n",
    "    wa = add_weighted_av(group)\n",
    "    WA=wa.reset_index()\n",
    "    WA_pivot = WA.pivot(index='ID', columns='L Area', values='Weighted Average')\n",
    "    WA_pivot = WA_pivot.fillna(3)   # new grades at 3\n",
    "    WA_pivot['Average']=(WA_pivot['ENG']+WA_pivot['MAT']+WA_pivot['SCI']+WA_pivot['PDH'])\n",
    "    return WA_pivot"
   ]
  },
  {
   "cell_type": "code",
   "execution_count": 1,
   "metadata": {},
   "outputs": [],
   "source": [
    "# Convert subject names to Learning Areas\n",
    "\n",
    "def subj_convert(row):\n",
    "    if row['Subject'] in ['BHI','BRL','CHD','CHDX','DAN','FLM','FOT','FRE','FREB','FREC','GER',\n",
    "               'GRA','INE','JAP','JAPB','MHI', 'PAS','PDM','PRG','RSS','SNT','SPS']:\n",
    "        return 'Average'    \n",
    "    \n",
    "    elif row['Subject'] in ['DRW', 'VIS','TEC','SDD','IND','TEX','IPT','IST','MCC']:\n",
    "        return 'IND'\n",
    "    \n",
    "    elif row['Subject'] in ['BUS', 'COM', 'AHI', 'HIS', 'LEG','SOC', 'SOR','SCH', 'HSI','ECO','GEQ','GEO', 'HMI', 'SOR']:\n",
    "        return 'GEO'\n",
    "    \n",
    "    elif row['Subject'] in ['EES','EGS','CHE','BIO','PHY','SCI']:\n",
    "        return 'SCI'\n",
    "    \n",
    "    elif row['Subject'] in ['DRA', 'MUS', 'MUT']:\n",
    "        return 'MUS'\n",
    "        \n",
    "    elif row['Subject'] in ['ENG','ENGA','ENGS','ENGX']:\n",
    "        return 'ENG'\n",
    "    \n",
    "    elif row['Subject'] in ['PDH','PAS', 'DAN']:\n",
    "        return 'PDH'\n",
    "    \n",
    "    elif row['Subject'] in ['MAT','MATG','MATX']:\n",
    "        return 'MAT'\n",
    "\n",
    "    else:\n",
    "        return 'Average'\n"
   ]
  },
  {
   "cell_type": "code",
   "execution_count": 350,
   "metadata": {},
   "outputs": [],
   "source": [
    "def import_sql_compare(year, semester):\n",
    "    while True:\n",
    "        try:\n",
    "            if year <2017:\n",
    "                print('Year must be 2017 or greater')\n",
    "            else:\n",
    "                year=int(year)\n",
    "        except:\n",
    "            print('This must be an integer greater than 2017')\n",
    "            break\n",
    "        else: \n",
    "            if semester not in [2,4]:\n",
    "                print(\"this is not semester 2 or 4\")\n",
    "                break\n",
    "            else:\n",
    "                while True:\n",
    "                    try:\n",
    "                        semester=int(semester)\n",
    "                    except:\n",
    "                        print('This must be an integer')\n",
    "                        break\n",
    "                    else:\n",
    "                        conn = pyodbc.connect('Driver={SQL Server};'\n",
    "                        'Server=server_name;' # server_name anonymised\n",
    "                        'Database=db;'   # datanase anonymised\n",
    "                        'Trusted_Connection=yes;')     \n",
    "\n",
    "                        cursor = conn.cursor()\n",
    "                        cursor.execute(\"SELECT  sa.[FileType]\\\n",
    "                        ,SA.[FileYear]\\\n",
    "                        ,sa.[FileSemester] \\\n",
    "                        ,SA.[ID]\\\n",
    "                        ,SN.YearLevel\\\n",
    "                        ,sa.[ClassCampus] \\\n",
    "                        ,sa.[ClassCode]\\\n",
    "                        ,sa.[Result]\\\n",
    "                        FROM [db].[dbo].[StudentAssessmentResults] SA\\\n",
    "                        join pvStudentNames SN\\\n",
    "                        on SN.FileYear = SA.FileYear\\\n",
    "                        and SN.id = SA.ID\\\n",
    "                        where  sa.result in ('A','B','C','D','E')\\\n",
    "                        and sa.filetype= 'A'\\\n",
    "                        and not sa.result =''\\\n",
    "                        and SA.fileyear =\" + str(year)+\"\\\n",
    "                        and sa.FileSemester =\" + str(semester)+\"\\\n",
    "                        UNION ALL SELECT distinct SB.[FileType],\\\n",
    "                        SB.[FileYear]\\\n",
    "                        ,SB.[FileSemester]\\\n",
    "                        ,SB.[ID]\\\n",
    "                        ,SM.YearLevel\\\n",
    "                        ,SB.[ClassCampus]\\\n",
    "                        ,SB.[ClassCode]\\\n",
    "                        ,SB.[Result]\\\n",
    "                        FROM [db].[dbo].[pastStudentAssessmentResults] SB\\\n",
    "                        join pvStudentNamesall SM\\\n",
    "                        on SM.FileYear = SB.FileYear\\\n",
    "                        and SM.id = SB.ID\\\n",
    "                        where  SB.result in ('A','B','C','D','E')\\\n",
    "                        and SB.filetype= 'A'\\\n",
    "                        and not SB.result =''\\\n",
    "                        and SB.fileyear =\" + str(year)+\"\\\n",
    "                        and SB.FileSemester =\" + str(semester))\n",
    "                        student_raw=cursor.fetchall()\n",
    "                        y = get_index(student_raw)\n",
    "                        z = student_raw_series(student_raw)\n",
    "                        z = np.array(z)\n",
    "                        df = to_dataframe_for_compare(z,y)\n",
    "                        df.reset_index(inplace=True)\n",
    "                        df=df.drop(['index'], axis=1)\n",
    "                        return df"
   ]
  },
  {
   "cell_type": "markdown",
   "metadata": {},
   "source": [
    "## Step 6. Some HSC Methods"
   ]
  },
  {
   "cell_type": "code",
   "execution_count": 351,
   "metadata": {},
   "outputs": [],
   "source": [
    "def subject_name(row):                               # extract class code using regex\n",
    "    x = re.match(r\"([0-9]+)( unit )([A-Za-z12 \\' ]+)\", row['Course'])\n",
    "    if bool(x)==True:\n",
    "        return x.group(3)\n",
    "    else:\n",
    "        return 0\n",
    "\n",
    "def insert_subject(frame):\n",
    "    frame['Course Title'] = frame.apply(lambda x: subject_name(x), axis=1)\n",
    "    return frame\n"
   ]
  },
  {
   "cell_type": "code",
   "execution_count": 352,
   "metadata": {},
   "outputs": [],
   "source": [
    "def stu_nesa(conn):    #accepts conn as Connector\n",
    "    cursor = conn.cursor()                           #Selecting ALL grades for ALL current/ past students\n",
    "    cursor.execute(\"SELECT [ID]\\\n",
    "      ,[Surname]\\\n",
    "      ,[Preferred]\\\n",
    "      ,[StudiesCode]\\\n",
    "      FROM [db].[dbo].[vPastStudentAddress]\")\n",
    "\n",
    "    stu_numbers=cursor.fetchall()\n",
    "    a=[0]*len(stu_numbers)\n",
    "    b=[0]*len(stu_numbers)\n",
    "    c=[0]*len(stu_numbers)\n",
    "    d=[0]*len(stu_numbers)\n",
    "    e=[0]*len(stu_numbers)\n",
    "    for i in range(len(stu_numbers)):\n",
    "        a[i] = stu_numbers[i][0]\n",
    "        b[i] = stu_numbers[i][1]\n",
    "        c[i] = stu_numbers[i][2]\n",
    "        d[i] = stu_numbers[i][3]\n",
    "        e[i] = i\n",
    "    e = np.array(e)\n",
    "    return pd.DataFrame({'ID':a, 'Surname':b, 'Preferred':c, 'Student Id':d}, index =e)"
   ]
  },
  {
   "cell_type": "code",
   "execution_count": 353,
   "metadata": {},
   "outputs": [],
   "source": [
    "def hsc_performance():\n",
    "    x = [0]*10\n",
    "    for i in range(2009, 2019):\n",
    "         x[i-2009]= pd.read_csv(\"\\home\\All HSC results\" + \"\\\\\" +str(i) +\".csv\" )\n",
    "         x[i-2009]['Year'] = i\n",
    "        \n",
    "    for i in range(1,10):\n",
    "        x[i]= pd.concat([x[i],x[i-1]], ignore_index = True)  \n",
    "    \n",
    "    allhsc = x[9]\n",
    "    allhsc['Student Id'] = allhsc['Student Id'].astype(str)\n",
    "    allhsc = insert_subject(allhsc)\n",
    "    allhsc = allhsc.drop(allhsc.columns[[4,5,12,13,15,16,14]],axis=1, inplace=False)\n",
    "    nesa_data = stu_nesa()\n",
    "    df = nesa_data.merge(allhsc, on ='Student Id')\n",
    "    df = df.drop(df.columns[[4,5,6]], axis=1, inplace = False)\n",
    "    return DataFrame(df)"
   ]
  },
  {
   "cell_type": "code",
   "execution_count": 354,
   "metadata": {},
   "outputs": [],
   "source": [
    "def hsc_merge():\n",
    "    hsc = hsc_performance()\n",
    "    hsc_new = DataFrame(hsc)\n",
    "    hsc_new = hsc_new.rename(columns={'Surname_x':'Surname', 'Student Id':'NESA ID'})\n",
    "    return hsc_new"
   ]
  },
  {
   "cell_type": "markdown",
   "metadata": {},
   "source": [
    "## Step 6: Compare Report Grades to Academic Vectors to determine growth"
   ]
  },
  {
   "cell_type": "markdown",
   "metadata": {},
   "source": [
    "Here, we use Rasch assessment design to calculate progress probabilities. The probability is based on the logit function to determine whether students who have shown a particular ability have scored beyond their expected performance level. \n",
    "\n",
    "We select an appropriate value k which scales results appropriate for our context. Here, k = 0.15"
   ]
  },
  {
   "cell_type": "markdown",
   "metadata": {},
   "source": [
    "The form of the Rasch model is\n",
    "\n",
    " $$P(achievement>=x) = \\frac{e^{a+x(k-1)}}{1+e^{a+x(k-1)}}$$\n",
    " \n",
    " Here, $P$ represents Progress Probability"
   ]
  },
  {
   "cell_type": "markdown",
   "metadata": {},
   "source": [
    "Please see https://en.wikipedia.org/wiki/Rasch_model"
   ]
  },
  {
   "cell_type": "code",
   "execution_count": 355,
   "metadata": {},
   "outputs": [],
   "source": [
    "###   ACADEMIC PROGRESS - AN AVERAGE    ### \n",
    "###  'PROBABILITY' OF STUDENT MOVEMENT  ###\n",
    "###   AT SELECTED REPORTING  PERIOD     ###\n",
    "###########################################\n",
    "\n",
    "def academic_progress_bysubject(year, term):\n",
    "    ability = academic_vector(year-1)\n",
    "    selected_results = import_sql_compare(year,term)\n",
    "    imp_cl = import_classes()\n",
    "    selected_results['ID']=selected_results['ID'].astype(int)\n",
    "    selected_results['YearLevel']=selected_results['YearLevel'].astype(int)\n",
    "    col1 = drop_columns1(selected_results)\n",
    "    res = result_number(col1)\n",
    "    adds = add_subject(res)\n",
    "    subj= real_classlist()\n",
    "    filt = adds.merge(subj, on=\"ClassCode\")\n",
    "    performance = filt.groupby(['ID','L Area']).mean()\n",
    "    performance.reset_index(inplace=True)\n",
    "    tuner = 0.15\n",
    "    \n",
    "    k=[0]*len(performance)\n",
    "    for i in range(len(performance)):\n",
    "        if performance.loc[i]['ID'] in list(ability.index):\n",
    "            k[i]=ability.loc[performance.loc[i]['ID'],performance.loc[i]['L Area']]\n",
    "        else:\n",
    "            k[i]=performance[['Result Number']].iloc[i,0]\n",
    "            \n",
    "    performance['Ability']=k\n",
    "    performance['Probability']= np.exp( performance['Ability']-performance['Result Number']+tuner*performance['Result Number'])/( 1+np.exp( performance['Ability']-performance['Result Number']+tuner*performance['Result Number']))\n",
    "    return performance"
   ]
  },
  {
   "cell_type": "code",
   "execution_count": 359,
   "metadata": {},
   "outputs": [
    {
     "name": "stderr",
     "output_type": "stream",
     "text": [
      "C:\\Users\\maa\\AppData\\Local\\Continuum\\anaconda3\\lib\\site-packages\\ipykernel_launcher.py:2: SettingWithCopyWarning: \n",
      "A value is trying to be set on a copy of a slice from a DataFrame.\n",
      "Try using .loc[row_indexer,col_indexer] = value instead\n",
      "\n",
      "See the caveats in the documentation: http://pandas.pydata.org/pandas-docs/stable/user_guide/indexing.html#returning-a-view-versus-a-copy\n",
      "  \n"
     ]
    }
   ],
   "source": [
    "progress_results= academic_progress_bysubject(2020,2)"
   ]
  }
 ],
 "metadata": {
  "kernelspec": {
   "display_name": "Python 3",
   "language": "python",
   "name": "python3"
  },
  "language_info": {
   "codemirror_mode": {
    "name": "ipython",
    "version": 3
   },
   "file_extension": ".py",
   "mimetype": "text/x-python",
   "name": "python",
   "nbconvert_exporter": "python",
   "pygments_lexer": "ipython3",
   "version": "3.7.4"
  }
 },
 "nbformat": 4,
 "nbformat_minor": 2
}
